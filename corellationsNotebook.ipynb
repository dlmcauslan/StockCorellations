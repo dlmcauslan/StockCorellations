{
 "metadata": {
  "name": "",
  "signature": "sha256:3a27eb33a1a292a5781d23a57ec038f6e4ae741d500ad26373d5767b00d06910"
 },
 "nbformat": 3,
 "nbformat_minor": 0,
 "worksheets": [
  {
   "cells": [
    {
     "cell_type": "code",
     "collapsed": false,
     "input": [
      "Stock_corellations.py"
     ],
     "language": "python",
     "metadata": {},
     "outputs": [
      {
       "ename": "NameError",
       "evalue": "name 'Stock_corellations' is not defined",
       "output_type": "pyerr",
       "traceback": [
        "\u001b[1;31m---------------------------------------------------------------------------\u001b[0m\n\u001b[1;31mNameError\u001b[0m                                 Traceback (most recent call last)",
        "\u001b[1;32m<ipython-input-1-8c165348c43b>\u001b[0m in \u001b[0;36m<module>\u001b[1;34m()\u001b[0m\n\u001b[1;32m----> 1\u001b[1;33m \u001b[0mStock_corellations\u001b[0m\u001b[1;33m.\u001b[0m\u001b[0mpy\u001b[0m\u001b[1;33m\u001b[0m\u001b[0m\n\u001b[0m",
        "\u001b[1;31mNameError\u001b[0m: name 'Stock_corellations' is not defined"
       ]
      }
     ],
     "prompt_number": 1
    },
    {
     "cell_type": "code",
     "collapsed": false,
     "input": [
      "####                   Stock Corellations.py\n",
      "''' Data science project that downloads stock data from yahoo finance, and \n",
      "calculates corellations over time.\n",
      "Created: 16/04/2016\n",
      "'''\n",
      "#Import libraries to use\n",
      "import urllib2\n",
      "from bs4 import BeautifulSoup\n",
      "import datetime\n",
      "import matplotlib.pyplot as plt\n",
      "import os.path\n",
      "import pandas as pd\n",
      "import numpy as np\n",
      "import re\n",
      "from bokeh.io import output_notebook, show\n",
      "from bokeh.plotting import figure\n",
      "\n",
      "# Create stock object, with stockName and database (that data is saved to)\n",
      "class Stock(object):\n",
      "    def __init__(self, stockName):\n",
      "        self.stockName = stockName\n",
      "        day,month,year = todaysDate()\n",
      "        self.URL = 'http://finance.yahoo.com/q/hp?s='+self.stockName+'&d='+month+'&e='+day+'&f='+year+'&g=d&a=01&b=01&c=1970&z=66&y='        \n",
      "               \n",
      "    # initialStockScrape()\n",
      "    def stockScrape(self):\n",
      "        # function which does the first time initialization of the stock and \n",
      "        #downloads all past stock data, returns array of dates, and array of data\n",
      "        #initializes arrays\n",
      "        \n",
      "        #If the data has already been downloaded don't redownload it\n",
      "        if  os.path.isfile(self.stockName + '_data.csv'):\n",
      "            return pd.read_csv(self.stockName + '_data.csv')\n",
      "        \n",
      "        print self.stockName\n",
      "                        \n",
      "        stockDataFrame =  pd.DataFrame({'Date':[], 'Open':[], 'High':[], 'Low':[],\\\n",
      "                    'Close':[], 'Volume':[], 'AdjClose':[]});\n",
      "        colName = ['Date','Open','High','Low','Close','Volume','AdjClose']\n",
      "        #putting into a loop to download all pages of data\n",
      "        done = False\n",
      "        m=0    \n",
      "        while not done:\n",
      "            rowTemp=[]\n",
      "            #print m\n",
      "            URLPage = self.URL+str(m)        \n",
      "            #creates soup and dowloads data\n",
      "            soup = BeautifulSoup(urllib2.urlopen(URLPage).read())\n",
      "            table = soup.find('table','yfnc_datamodoutline1')\n",
      "            #breaks loop if it doesnt find a table\n",
      "            if table==None:\n",
      "                done = True\n",
      "                break                \n",
      "            \n",
      "            #takes data from soup and processes it into a way that can be used \n",
      "            for td in table.tr.findAll(\"td\"):\n",
      "                #print td\n",
      "                if td.string != None:                    \n",
      "                    #Only get stock data\n",
      "                    if 'Dividend' not in td.string and '/' not in td.string:\n",
      "                        #tableTemp.append(td.string)\n",
      "                        rowTemp.append(td.string)\n",
      "                        # Add entire row to dataFrame\n",
      "                        if len(rowTemp)%7==0:\n",
      "                            #print pd.DataFrame([rowTemp], columns=colName)\n",
      "                            stockDataFrame = stockDataFrame.append(pd.DataFrame([rowTemp], columns=colName), ignore_index=True)\n",
      "                            #Clear rowTemp\n",
      "                            rowTemp = []\n",
      "            \n",
      "            #increment m\n",
      "            m+=66\n",
      "            print m\n",
      "        \n",
      "        # Save as csv\n",
      "        stockDataFrame.to_csv(self.stockName + '_data.csv')\n",
      "        # Returns panda array of scraped data\n",
      "        return stockDataFrame\n",
      "\n",
      "               \n",
      "    \n",
      "    # plotStockData(initialDate,finalDate)\n",
      "    def plotStockData(self, percentage='n',initialDate=None, finalDate=None):\n",
      "        # calls readDatabase, then uses pylab to plot the stock data from initialDate\n",
      "        # to finalDate. Defaults are minDate and maxDate.\n",
      "        #Read in stock data\n",
      "        stockDataFrame = pd.read_csv(self.stockName + '_data.csv')\n",
      "        dateData = stockDataFrame[\"Date\"].tolist()\n",
      "        openData = stockDataFrame[\"Open\"]\n",
      "                \n",
      "        #converts data into a type that can be used      \n",
      "        dateData = convertDate(dateData)\n",
      "        openData = [float(''.join(re.split('\\,',i))) for i in openData]       \n",
      "        \n",
      "        #converts it to percentage\n",
      "        if percentage=='y':\n",
      "            #firstPrice = float(openData[initN])\n",
      "            firstPrice = float(openData[len(dateData)-1])\n",
      "            for n in range(len(openData)): openData[n]*=100/firstPrice        \n",
      "        \n",
      "        '''#plots data\n",
      "        plt.figure()\n",
      "        #plt.plot_date(dateData[initN:finN],openData[initN:finN],'-o')\n",
      "        plt.plot_date(dateData,openData,'-')\n",
      "        plt.xlabel('Date')\n",
      "        if percentage=='y':\n",
      "            plt.ylabel('Percentage')\n",
      "        else:\n",
      "            plt.ylabel('Price ($)')\n",
      "        plt.title(self.stockName)\n",
      "        plt.show()'''\n",
      "        \n",
      "        #Plots data using Bokeh\n",
      "        p = figure(plot_width=500, plot_height=500)\n",
      "        p.line(dateData, openData, line_width=2)\n",
      "        show(p) # show the results       \n",
      "\n",
      "# convertDate(dateString)\n",
      "def convertDate(dateString):\n",
      "    #takes a date input as a list of strings in the format 'mmm d, yyyy' and converts it to\n",
      "    #a date object\n",
      "    # a dictionary to convert months to a number\n",
      "    monthDict = {'Jan': '01', 'Feb':'02', 'Mar':'03','Apr':'04','May':'05','Jun':'06',\n",
      "    'Jul':'07','Aug':'08','Sep':'09','Oct':'10','Nov':'11','Dec':'12'}\n",
      "    \n",
      "    for n in range(len(dateString)):\n",
      "        #splits the string\n",
      "        splitDate = re.split('\\W+',dateString[n])\n",
      "        #print splitDate\n",
      "        # cconverts the date into date object\n",
      "        dateString[n] = datetime.date(int(splitDate[2]),int(monthDict[splitDate[0]]),int(splitDate[1])) #y,m,d\n",
      "    return dateString   \n",
      "\n",
      "#todaysDate()\n",
      "def todaysDate():\n",
      "    #gets todays date and converts it into a format that the URL for downloading\n",
      "    # can use. Returns (dd,mm-1,yy)\n",
      "    todaysDate = datetime.date.today()\n",
      "    year = str(todaysDate.year)\n",
      "    if todaysDate.month<11:\n",
      "        month = '0'+str(todaysDate.month-1)\n",
      "    else:\n",
      "        month = str(todaysDate.month-1)\n",
      "    if todaysDate.day<10:\n",
      "        day = '0'+str(todaysDate.day)\n",
      "    else:\n",
      "        day = str(todaysDate.day)\n",
      "        \n",
      "    return day, month, year\n",
      "\n",
      "# and does the plotting\n",
      " \n",
      "plt.close(\"all\")\n",
      "    \n",
      "#USA S&P500 \n",
      "SP500 = Stock('^GSPC')\n",
      "SP500.stockScrape()\n",
      "SP500.plotStockData(percentage='n')\n",
      "    \n",
      "#China Shanghai Composite\n",
      "SSEC = Stock('000001.SS')\n",
      "SSEC_stockData = SSEC.stockScrape()\n",
      "SSEC.plotStockData(percentage='n')\n",
      "\n",
      "#Japan Nikei 225\n",
      "N225 = Stock('^N225')\n",
      "N225_stockData = N225.stockScrape()\n",
      "N225.plotStockData(percentage='n')\n",
      "\n",
      "#Australia S&P/ASX200\n",
      "ASX = Stock('^AXJO')\n",
      "ASX_stockData = ASX.stockScrape()\n",
      "ASX.plotStockData(percentage='n')\n",
      "\n",
      "#England FTSE100\n",
      "FTSE = Stock('^FTSE')\n",
      "FTSE_stockData = FTSE.stockScrape()\n",
      "FTSE.plotStockData(percentage='n')\n"
     ],
     "language": "python",
     "metadata": {},
     "outputs": [
      {
       "output_type": "stream",
       "stream": "stdout",
       "text": [
        "^GSPC\n",
        "66"
       ]
      },
      {
       "output_type": "stream",
       "stream": "stdout",
       "text": [
        "\n",
        "132"
       ]
      },
      {
       "output_type": "stream",
       "stream": "stdout",
       "text": [
        "\n",
        "198"
       ]
      },
      {
       "output_type": "stream",
       "stream": "stdout",
       "text": [
        "\n",
        "264"
       ]
      },
      {
       "output_type": "stream",
       "stream": "stdout",
       "text": [
        "\n",
        "330"
       ]
      },
      {
       "output_type": "stream",
       "stream": "stdout",
       "text": [
        "\n",
        "396"
       ]
      },
      {
       "output_type": "stream",
       "stream": "stdout",
       "text": [
        "\n",
        "462"
       ]
      },
      {
       "output_type": "stream",
       "stream": "stdout",
       "text": [
        "\n",
        "528"
       ]
      },
      {
       "output_type": "stream",
       "stream": "stdout",
       "text": [
        "\n",
        "594"
       ]
      },
      {
       "output_type": "stream",
       "stream": "stdout",
       "text": [
        "\n",
        "660"
       ]
      },
      {
       "output_type": "stream",
       "stream": "stdout",
       "text": [
        "\n",
        "726"
       ]
      },
      {
       "output_type": "stream",
       "stream": "stdout",
       "text": [
        "\n",
        "792"
       ]
      },
      {
       "output_type": "stream",
       "stream": "stdout",
       "text": [
        "\n",
        "858"
       ]
      },
      {
       "output_type": "stream",
       "stream": "stdout",
       "text": [
        "\n",
        "924"
       ]
      },
      {
       "output_type": "stream",
       "stream": "stdout",
       "text": [
        "\n",
        "990"
       ]
      },
      {
       "output_type": "stream",
       "stream": "stdout",
       "text": [
        "\n",
        "1056"
       ]
      },
      {
       "output_type": "stream",
       "stream": "stdout",
       "text": [
        "\n",
        "1122"
       ]
      },
      {
       "output_type": "stream",
       "stream": "stdout",
       "text": [
        "\n",
        "1188"
       ]
      },
      {
       "output_type": "stream",
       "stream": "stdout",
       "text": [
        "\n",
        "1254"
       ]
      },
      {
       "output_type": "stream",
       "stream": "stdout",
       "text": [
        "\n",
        "1320"
       ]
      },
      {
       "output_type": "stream",
       "stream": "stdout",
       "text": [
        "\n",
        "1386"
       ]
      },
      {
       "output_type": "stream",
       "stream": "stdout",
       "text": [
        "\n",
        "1452"
       ]
      },
      {
       "output_type": "stream",
       "stream": "stdout",
       "text": [
        "\n",
        "1518"
       ]
      },
      {
       "output_type": "stream",
       "stream": "stdout",
       "text": [
        "\n",
        "1584"
       ]
      },
      {
       "output_type": "stream",
       "stream": "stdout",
       "text": [
        "\n",
        "1650"
       ]
      },
      {
       "output_type": "stream",
       "stream": "stdout",
       "text": [
        "\n",
        "1716"
       ]
      },
      {
       "output_type": "stream",
       "stream": "stdout",
       "text": [
        "\n",
        "1782"
       ]
      },
      {
       "output_type": "stream",
       "stream": "stdout",
       "text": [
        "\n",
        "1848"
       ]
      },
      {
       "output_type": "stream",
       "stream": "stdout",
       "text": [
        "\n",
        "1914"
       ]
      },
      {
       "output_type": "stream",
       "stream": "stdout",
       "text": [
        "\n",
        "1980"
       ]
      },
      {
       "output_type": "stream",
       "stream": "stdout",
       "text": [
        "\n",
        "2046"
       ]
      },
      {
       "output_type": "stream",
       "stream": "stdout",
       "text": [
        "\n",
        "2112"
       ]
      },
      {
       "output_type": "stream",
       "stream": "stdout",
       "text": [
        "\n",
        "2178"
       ]
      },
      {
       "output_type": "stream",
       "stream": "stdout",
       "text": [
        "\n",
        "2244"
       ]
      },
      {
       "output_type": "stream",
       "stream": "stdout",
       "text": [
        "\n",
        "2310"
       ]
      },
      {
       "output_type": "stream",
       "stream": "stdout",
       "text": [
        "\n",
        "2376"
       ]
      },
      {
       "output_type": "stream",
       "stream": "stdout",
       "text": [
        "\n",
        "2442"
       ]
      },
      {
       "output_type": "stream",
       "stream": "stdout",
       "text": [
        "\n",
        "2508"
       ]
      },
      {
       "output_type": "stream",
       "stream": "stdout",
       "text": [
        "\n",
        "2574"
       ]
      },
      {
       "output_type": "stream",
       "stream": "stdout",
       "text": [
        "\n",
        "2640"
       ]
      }
     ]
    },
    {
     "cell_type": "code",
     "collapsed": false,
     "input": [],
     "language": "python",
     "metadata": {},
     "outputs": []
    }
   ],
   "metadata": {}
  }
 ]
}